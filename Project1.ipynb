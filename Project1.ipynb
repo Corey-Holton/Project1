{
 "cells": [
  {
   "cell_type": "code",
   "execution_count": 1,
   "id": "51fbaa0e-8db1-4ce1-b7e9-7e092be205cb",
   "metadata": {},
   "outputs": [],
   "source": [
    "import pandas as pd"
   ]
  },
  {
   "cell_type": "code",
   "execution_count": 3,
   "id": "4682f09d-dc9b-46c8-a061-13d51a5209e5",
   "metadata": {},
   "outputs": [],
   "source": [
    "import matplotlib.pyplot as plt"
   ]
  },
  {
   "cell_type": "code",
   "execution_count": 5,
   "id": "dbf845e7-cc17-42a8-9e95-3d616a349844",
   "metadata": {},
   "outputs": [],
   "source": [
    "import numpy as np"
   ]
  },
  {
   "cell_type": "code",
   "execution_count": 7,
   "id": "37297d6d-ef30-4b03-a1cc-e54c30da844e",
   "metadata": {},
   "outputs": [
    {
     "ename": "SyntaxError",
     "evalue": "(unicode error) 'unicodeescape' codec can't decode bytes in position 2-3: truncated \\UXXXXXXXX escape (1380613774.py, line 1)",
     "output_type": "error",
     "traceback": [
      "\u001b[1;36m  Cell \u001b[1;32mIn[7], line 1\u001b[1;36m\u001b[0m\n\u001b[1;33m    agri_data = pd.read_csv(\"C:\\Users\\CJHx6\\Downloads\\Production_Crops_Livestock_E_All_Data\\Production_Crops_Livestock_E_All_Data.csv\")\u001b[0m\n\u001b[1;37m                            ^\u001b[0m\n\u001b[1;31mSyntaxError\u001b[0m\u001b[1;31m:\u001b[0m (unicode error) 'unicodeescape' codec can't decode bytes in position 2-3: truncated \\UXXXXXXXX escape\n"
     ]
    }
   ],
   "source": [
    "agri_data = pd.read_csv(\"C:\\Users\\CJHx6\\Downloads\\Production_Crops_Livestock_E_All_Data\\Production_Crops_Livestock_E_All_Data.csv\")\n"
   ]
  },
  {
   "cell_type": "code",
   "execution_count": 9,
   "id": "a6ac081d-75c9-4c26-af78-dc5bb5eea1ff",
   "metadata": {},
   "outputs": [
    {
     "ename": "UnicodeDecodeError",
     "evalue": "'utf-8' codec can't decode byte 0xe9 in position 84095: invalid continuation byte",
     "output_type": "error",
     "traceback": [
      "\u001b[1;31m---------------------------------------------------------------------------\u001b[0m",
      "\u001b[1;31mUnicodeDecodeError\u001b[0m                        Traceback (most recent call last)",
      "Cell \u001b[1;32mIn[9], line 1\u001b[0m\n\u001b[1;32m----> 1\u001b[0m agri_data \u001b[38;5;241m=\u001b[39m pd\u001b[38;5;241m.\u001b[39mread_csv(\u001b[38;5;124mr\u001b[39m\u001b[38;5;124m\"\u001b[39m\u001b[38;5;124mC:\u001b[39m\u001b[38;5;124m\\\u001b[39m\u001b[38;5;124mUsers\u001b[39m\u001b[38;5;124m\\\u001b[39m\u001b[38;5;124mCJHx6\u001b[39m\u001b[38;5;124m\\\u001b[39m\u001b[38;5;124mDownloads\u001b[39m\u001b[38;5;124m\\\u001b[39m\u001b[38;5;124mProduction_Crops_Livestock_E_All_Data\u001b[39m\u001b[38;5;124m\\\u001b[39m\u001b[38;5;124mProduction_Crops_Livestock_E_All_Data.csv\u001b[39m\u001b[38;5;124m\"\u001b[39m)\n",
      "File \u001b[1;32m~\\anaconda3\\Lib\\site-packages\\pandas\\io\\parsers\\readers.py:1026\u001b[0m, in \u001b[0;36mread_csv\u001b[1;34m(filepath_or_buffer, sep, delimiter, header, names, index_col, usecols, dtype, engine, converters, true_values, false_values, skipinitialspace, skiprows, skipfooter, nrows, na_values, keep_default_na, na_filter, verbose, skip_blank_lines, parse_dates, infer_datetime_format, keep_date_col, date_parser, date_format, dayfirst, cache_dates, iterator, chunksize, compression, thousands, decimal, lineterminator, quotechar, quoting, doublequote, escapechar, comment, encoding, encoding_errors, dialect, on_bad_lines, delim_whitespace, low_memory, memory_map, float_precision, storage_options, dtype_backend)\u001b[0m\n\u001b[0;32m   1013\u001b[0m kwds_defaults \u001b[38;5;241m=\u001b[39m _refine_defaults_read(\n\u001b[0;32m   1014\u001b[0m     dialect,\n\u001b[0;32m   1015\u001b[0m     delimiter,\n\u001b[1;32m   (...)\u001b[0m\n\u001b[0;32m   1022\u001b[0m     dtype_backend\u001b[38;5;241m=\u001b[39mdtype_backend,\n\u001b[0;32m   1023\u001b[0m )\n\u001b[0;32m   1024\u001b[0m kwds\u001b[38;5;241m.\u001b[39mupdate(kwds_defaults)\n\u001b[1;32m-> 1026\u001b[0m \u001b[38;5;28;01mreturn\u001b[39;00m _read(filepath_or_buffer, kwds)\n",
      "File \u001b[1;32m~\\anaconda3\\Lib\\site-packages\\pandas\\io\\parsers\\readers.py:626\u001b[0m, in \u001b[0;36m_read\u001b[1;34m(filepath_or_buffer, kwds)\u001b[0m\n\u001b[0;32m    623\u001b[0m     \u001b[38;5;28;01mreturn\u001b[39;00m parser\n\u001b[0;32m    625\u001b[0m \u001b[38;5;28;01mwith\u001b[39;00m parser:\n\u001b[1;32m--> 626\u001b[0m     \u001b[38;5;28;01mreturn\u001b[39;00m parser\u001b[38;5;241m.\u001b[39mread(nrows)\n",
      "File \u001b[1;32m~\\anaconda3\\Lib\\site-packages\\pandas\\io\\parsers\\readers.py:1923\u001b[0m, in \u001b[0;36mTextFileReader.read\u001b[1;34m(self, nrows)\u001b[0m\n\u001b[0;32m   1916\u001b[0m nrows \u001b[38;5;241m=\u001b[39m validate_integer(\u001b[38;5;124m\"\u001b[39m\u001b[38;5;124mnrows\u001b[39m\u001b[38;5;124m\"\u001b[39m, nrows)\n\u001b[0;32m   1917\u001b[0m \u001b[38;5;28;01mtry\u001b[39;00m:\n\u001b[0;32m   1918\u001b[0m     \u001b[38;5;66;03m# error: \"ParserBase\" has no attribute \"read\"\u001b[39;00m\n\u001b[0;32m   1919\u001b[0m     (\n\u001b[0;32m   1920\u001b[0m         index,\n\u001b[0;32m   1921\u001b[0m         columns,\n\u001b[0;32m   1922\u001b[0m         col_dict,\n\u001b[1;32m-> 1923\u001b[0m     ) \u001b[38;5;241m=\u001b[39m \u001b[38;5;28mself\u001b[39m\u001b[38;5;241m.\u001b[39m_engine\u001b[38;5;241m.\u001b[39mread(  \u001b[38;5;66;03m# type: ignore[attr-defined]\u001b[39;00m\n\u001b[0;32m   1924\u001b[0m         nrows\n\u001b[0;32m   1925\u001b[0m     )\n\u001b[0;32m   1926\u001b[0m \u001b[38;5;28;01mexcept\u001b[39;00m \u001b[38;5;167;01mException\u001b[39;00m:\n\u001b[0;32m   1927\u001b[0m     \u001b[38;5;28mself\u001b[39m\u001b[38;5;241m.\u001b[39mclose()\n",
      "File \u001b[1;32m~\\anaconda3\\Lib\\site-packages\\pandas\\io\\parsers\\c_parser_wrapper.py:234\u001b[0m, in \u001b[0;36mCParserWrapper.read\u001b[1;34m(self, nrows)\u001b[0m\n\u001b[0;32m    232\u001b[0m \u001b[38;5;28;01mtry\u001b[39;00m:\n\u001b[0;32m    233\u001b[0m     \u001b[38;5;28;01mif\u001b[39;00m \u001b[38;5;28mself\u001b[39m\u001b[38;5;241m.\u001b[39mlow_memory:\n\u001b[1;32m--> 234\u001b[0m         chunks \u001b[38;5;241m=\u001b[39m \u001b[38;5;28mself\u001b[39m\u001b[38;5;241m.\u001b[39m_reader\u001b[38;5;241m.\u001b[39mread_low_memory(nrows)\n\u001b[0;32m    235\u001b[0m         \u001b[38;5;66;03m# destructive to chunks\u001b[39;00m\n\u001b[0;32m    236\u001b[0m         data \u001b[38;5;241m=\u001b[39m _concatenate_chunks(chunks)\n",
      "File \u001b[1;32mparsers.pyx:838\u001b[0m, in \u001b[0;36mpandas._libs.parsers.TextReader.read_low_memory\u001b[1;34m()\u001b[0m\n",
      "File \u001b[1;32mparsers.pyx:905\u001b[0m, in \u001b[0;36mpandas._libs.parsers.TextReader._read_rows\u001b[1;34m()\u001b[0m\n",
      "File \u001b[1;32mparsers.pyx:874\u001b[0m, in \u001b[0;36mpandas._libs.parsers.TextReader._tokenize_rows\u001b[1;34m()\u001b[0m\n",
      "File \u001b[1;32mparsers.pyx:891\u001b[0m, in \u001b[0;36mpandas._libs.parsers.TextReader._check_tokenize_status\u001b[1;34m()\u001b[0m\n",
      "File \u001b[1;32mparsers.pyx:2053\u001b[0m, in \u001b[0;36mpandas._libs.parsers.raise_parser_error\u001b[1;34m()\u001b[0m\n",
      "File \u001b[1;32m<frozen codecs>:322\u001b[0m, in \u001b[0;36mdecode\u001b[1;34m(self, input, final)\u001b[0m\n",
      "\u001b[1;31mUnicodeDecodeError\u001b[0m: 'utf-8' codec can't decode byte 0xe9 in position 84095: invalid continuation byte"
     ]
    }
   ],
   "source": [
    "agri_data = pd.read_csv(r\"C:\\Users\\CJHx6\\Downloads\\Production_Crops_Livestock_E_All_Data\\Production_Crops_Livestock_E_All_Data.csv\")"
   ]
  },
  {
   "cell_type": "code",
   "execution_count": 13,
   "id": "8baf5d7b-6739-4df2-b1f9-32ed37d34e72",
   "metadata": {},
   "outputs": [],
   "source": [
    "agri_data = pd.read_csv(r\"C:\\Users\\CJHx6\\Downloads\\Production_Crops_Livestock_E_All_Data\\Production_Crops_Livestock_E_All_Data.csv\", encoding='ISO-8859-1', low_memory = False)\n"
   ]
  },
  {
   "cell_type": "code",
   "execution_count": 15,
   "id": "be21f155-f568-4417-903b-41bf9943aba6",
   "metadata": {},
   "outputs": [
    {
     "name": "stdout",
     "output_type": "stream",
     "text": [
      "<class 'pandas.core.frame.DataFrame'>\n",
      "RangeIndex: 79606 entries, 0 to 79605\n",
      "Columns: 195 entries, Area Code to Y2022N\n",
      "dtypes: float64(62), int64(3), object(130)\n",
      "memory usage: 118.4+ MB\n"
     ]
    }
   ],
   "source": [
    "agri_data.info()"
   ]
  },
  {
   "cell_type": "code",
   "execution_count": 21,
   "id": "4ffd9163-85ed-4420-8dc0-9861f85a72f4",
   "metadata": {},
   "outputs": [
    {
     "data": {
      "text/plain": [
       "Index(['Area Code', 'Area Code (M49)', 'Area', 'Item Code', 'Item Code (CPC)',\n",
       "       'Item', 'Element Code', 'Element', 'Unit', 'Y1961',\n",
       "       ...\n",
       "       'Y2019N', 'Y2020', 'Y2020F', 'Y2020N', 'Y2021', 'Y2021F', 'Y2021N',\n",
       "       'Y2022', 'Y2022F', 'Y2022N'],\n",
       "      dtype='object', length=195)"
      ]
     },
     "execution_count": 21,
     "metadata": {},
     "output_type": "execute_result"
    }
   ],
   "source": [
    "agri_data.columns"
   ]
  },
  {
   "cell_type": "code",
   "execution_count": 23,
   "id": "8a50c17c-a047-482a-b57a-c8194e6f0e55",
   "metadata": {},
   "outputs": [],
   "source": [
    "pd.set_option('display.max_columns', None)"
   ]
  },
  {
   "cell_type": "code",
   "execution_count": 61,
   "id": "807c9e33-2e40-4f64-8d7c-a615a69f6d99",
   "metadata": {},
   "outputs": [
    {
     "data": {
      "text/plain": [
       "array(['Almonds, in shell',\n",
       "       'Anise, badian, coriander, cumin, caraway, fennel and juniper berries, raw',\n",
       "       'Apples', 'Apricots', 'Asses', 'Barley',\n",
       "       'Butter and ghee of sheep milk', 'Butter of cow milk',\n",
       "       'Buttermilk, dry', 'Camels', 'Cantaloupes and other melons',\n",
       "       'Cattle', 'Cattle fat, unrendered',\n",
       "       'Cheese from milk of goats, fresh or processed',\n",
       "       'Cheese from milk of sheep, fresh or processed', 'Chickens',\n",
       "       'Cotton lint, ginned', 'Cotton seed', 'Cottonseed oil',\n",
       "       'Edible offal of cattle, fresh, chilled or frozen',\n",
       "       'Edible offal of goat, fresh, chilled or frozen',\n",
       "       'Edible offal of sheep, fresh, chilled or frozen',\n",
       "       'Edible offals of camels and other camelids, fresh, chilled or frozen',\n",
       "       'Fat of camels', 'Figs', 'Game meat, fresh, chilled or frozen',\n",
       "       'Goat fat, unrendered', 'Goats', 'Grapes',\n",
       "       'Hen eggs in shell, fresh', 'Horses', 'Linseed', 'Maize (corn)',\n",
       "       'Meat of camels, fresh or chilled',\n",
       "       'Meat of cattle with the bone, fresh or chilled',\n",
       "       'Meat of chickens, fresh or chilled',\n",
       "       'Meat of goat, fresh or chilled',\n",
       "       'Meat of sheep, fresh or chilled', 'Millet', 'Molasses',\n",
       "       'Mules and hinnies', 'Mustard seed', 'Natural honey',\n",
       "       'Oil of linseed', 'Oil of sesame seed', 'Olive oil', 'Olives',\n",
       "       'Onions and shallots, dry (excluding dehydrated)', 'Oranges',\n",
       "       'Other berries and fruits of the genus vaccinium n.e.c.',\n",
       "       'Other citrus fruit, n.e.c.', 'Other fruits, n.e.c.',\n",
       "       'Other nuts (excluding wild edible nuts and groundnuts), in shell, n.e.c.',\n",
       "       'Other pulses n.e.c.',\n",
       "       'Other stimulant, spice and aromatic crops, n.e.c.',\n",
       "       'Other stone fruits', 'Other vegetables, fresh n.e.c.',\n",
       "       'Peaches and nectarines', 'Pears', 'Pistachios, in shell',\n",
       "       'Plums and sloes', 'Potatoes',\n",
       "       'Raw cane or beet sugar (centrifugal only)',\n",
       "       'Raw hides and skins of cattle',\n",
       "       'Raw hides and skins of goats or kids',\n",
       "       'Raw hides and skins of sheep or lambs', 'Raw milk of camel',\n",
       "       'Raw milk of cattle', 'Raw milk of goats', 'Raw milk of sheep',\n",
       "       'Raw silk (not thrown)', 'Rice', 'Seed cotton, unginned',\n",
       "       'Sesame seed', 'Sheep', 'Sheep fat, unrendered',\n",
       "       'Shorn wool, greasy, including fleece-washed shorn wool',\n",
       "       'Silk-worm cocoons suitable for reeling', 'Skim milk of cows',\n",
       "       'Sugar beet', 'Sugar cane', 'Sunflower seed',\n",
       "       'Sunflower-seed oil, crude', 'Walnuts, in shell', 'Watermelons',\n",
       "       'Wheat', 'Beef and Buffalo Meat, primary', 'Butter and Ghee',\n",
       "       'Cattle and Buffaloes', 'Cereals, primary', 'Cheese (All Kinds)',\n",
       "       'Citrus Fruit, Total', 'Eggs Primary',\n",
       "       'Fibre Crops, Fibre Equivalent', 'Fruit Primary', 'Meat, Poultry',\n",
       "       'Meat, Total', 'Milk, Total', 'Oilcrops, Cake Equivalent',\n",
       "       'Oilcrops, Oil Equivalent', 'Poultry Birds', 'Pulses, Total',\n",
       "       'Roots and Tubers, Total', 'Sheep and Goat Meat',\n",
       "       'Sheep and Goats', 'Skim Milk & Buttermilk, Dry',\n",
       "       'Sugar Crops Primary', 'Treenuts, Total', 'Vegetables Primary',\n",
       "       'Beans, dry', 'Beer of barley, malted', 'Bees', 'Beeswax',\n",
       "       'Broad beans and horse beans, dry',\n",
       "       'Broad beans and horse beans, green', 'Buffalo',\n",
       "       'Buffalo fat, unrendered', 'Cabbages', 'Carrots and turnips',\n",
       "       'Cauliflowers and broccoli', 'Cheese from whole cow milk',\n",
       "       'Cherries', 'Chestnuts, in shell',\n",
       "       'Chillies and peppers, green (Capsicum spp. and Pimenta spp.)',\n",
       "       'Cucumbers and gherkins', 'Dates', 'Ducks',\n",
       "       'Edible offal of buffalo, fresh, chilled or frozen',\n",
       "       'Edible offal of pigs, fresh, chilled or frozen',\n",
       "       'Edible offals of horses and other equines,  fresh, chilled or frozen',\n",
       "       'Eggplants (aubergines)',\n",
       "       'Eggs from other birds in shell, fresh, n.e.c.', 'Fat of pigs',\n",
       "       'Geese', 'Green garlic',\n",
       "       'Green tea (not fermented), black tea (fermented) and partly fermented tea, in immediate packings of a content not exceeding 3 kg',\n",
       "       'Groundnut oil', 'Hop cones', 'Horse meat, fresh or chilled',\n",
       "       'Leeks and other alliaceous vegetables', 'Lemons and limes',\n",
       "       'Lettuce and chicory', 'Margarine and shortening',\n",
       "       'Meat of buffalo, fresh or chilled',\n",
       "       'Meat of pig with the bone, fresh or chilled',\n",
       "       'Meat of turkeys, fresh or chilled', 'Mushrooms and truffles',\n",
       "       'Oats', 'Okra', 'Onions and shallots, green', 'Other beans, green',\n",
       "       'Other meat n.e.c. (excluding mammals), fresh, chilled or frozen',\n",
       "       'Palm oil', 'Peas, green', 'Pumpkins, squash and gourds',\n",
       "       'Quinces', 'Raw hides and skins of buffaloes',\n",
       "       'Raw milk of buffalo', 'Rye', 'Sorghum', 'Sour cherries',\n",
       "       'Soya bean oil', 'Soya beans', 'Spinach', 'Strawberries',\n",
       "       'Swine / pigs', 'Tangerines, mandarins, clementines', 'Tomatoes',\n",
       "       'Turkeys', 'Unmanufactured tobacco', 'Vetches', 'Wine',\n",
       "       'Artichokes', 'Bananas', 'Cheese from skimmed cow milk',\n",
       "       'Chick peas, dry',\n",
       "       'Chillies and peppers, dry (Capsicum spp., Pimenta spp.), raw',\n",
       "       'Groundnuts, excluding shelled', 'Lentils, dry',\n",
       "       'Locust beans (carobs)',\n",
       "       'Meat of rabbits and hares, fresh or chilled',\n",
       "       'Other tropical fruits, n.e.c.', 'Peas, dry',\n",
       "       'Pomelos and grapefruits', 'Rabbits and hares',\n",
       "       'Rape or colza seed', 'Rapeseed or canola oil, crude',\n",
       "       'Safflower-seed oil, crude', 'Triticale', 'Avocados',\n",
       "       'Cashew nuts, in shell', 'Cassava, fresh', 'Castor oil seeds',\n",
       "       'Cocoa beans', 'Coffee, green',\n",
       "       'Kenaf, and other textile bast fibres, raw or retted',\n",
       "       'Mangoes, guavas and mangosteens', 'Oil of palm kernel',\n",
       "       'Oil palm fruit', 'Palm kernels', 'Pig fat, rendered',\n",
       "       'Pineapples', 'Sisal, raw', 'Sweet potatoes',\n",
       "       'Skim milk and whey powder', 'Skim milk, condensed',\n",
       "       'Skim milk, evaporated', 'Tallow', 'Taro', 'Yams',\n",
       "       'Evaporated & Condensed Milk', 'Asparagus', 'Canary seed',\n",
       "       'Cereals n.e.c.', 'Cream, fresh', 'Flax, raw or retted',\n",
       "       'Ghee from cow milk', 'Lupins', 'Maté leaves',\n",
       "       'Meat of asses, fresh or chilled',\n",
       "       'Meat of ducks, fresh or chilled',\n",
       "       'Meat of geese, fresh or chilled',\n",
       "       'Meat of mules, fresh or chilled', 'Oil of maize',\n",
       "       'Other fibre crops, raw, n.e.c.', 'Other oil seeds, n.e.c.',\n",
       "       'Papayas', 'Peppermint, spearmint', 'Safflower seed',\n",
       "       'String beans', 'Tea leaves', 'Tung nuts', 'Whey, dry',\n",
       "       'Whole milk powder', 'Whole milk, condensed',\n",
       "       'Whole milk, evaporated', 'Hazelnuts, in shell', 'Blueberries',\n",
       "       'Coconut oil', 'Cow peas, dry', 'Currants', 'Green corn (maize)',\n",
       "       'Hempseed', 'Kiwi fruit', 'Persimmons', 'Raspberries',\n",
       "       'True hemp, raw or retted', 'Buckwheat', 'Gooseberries',\n",
       "       'Mixed grain', 'Poppy seed', 'Whey, condensed', 'Yoghurt',\n",
       "       'Cranberries', 'Coconuts, in shell', 'Pigeon peas, dry',\n",
       "       'Plantains and cooking bananas', 'Areca nuts',\n",
       "       'Butter of buffalo milk', 'Coir, raw', 'Ghee from buffalo milk',\n",
       "       'Ginger, raw', 'Jute, raw or retted',\n",
       "       'Natural rubber in primary forms', 'Other sugar crops n.e.c.',\n",
       "       'Other pome fruits', 'Chicory roots', 'Vanilla, raw',\n",
       "       'Edible roots and tubers with high starch or inulin content, n.e.c., fresh',\n",
       "       'Yautia', 'Fonio', 'Karite nuts (sheanuts)', 'Kola nuts',\n",
       "       'Melonseed', 'Pepper (Piper spp.), raw',\n",
       "       'Nutmeg, mace, cardamoms, raw', 'Quinoa', 'Brazil nuts, in shell',\n",
       "       'Meat of other domestic camelids, fresh or chilled',\n",
       "       'Meat of other domestic rodents, fresh or chilled',\n",
       "       'Other camelids', 'Other rodents', 'Pyrethrum, dried flowers',\n",
       "       'Balata, gutta-percha, guayule, chicle and similar natural gums in primary forms or in plates, sheets or strip',\n",
       "       'Cashewapple', 'Ramie, raw or retted', 'Cassava leaves',\n",
       "       'Meat of pigeons and other birds n.e.c., fresh, chilled or frozen',\n",
       "       'Bambara beans, dry',\n",
       "       'Cheese from milk of buffalo, fresh or processed',\n",
       "       'Cinnamon and cinnamon-tree flowers, raw',\n",
       "       'Cloves (whole stems), raw', 'Tallowtree seeds',\n",
       "       'Agave fibres, raw, n.e.c.', 'Abaca, manila hemp, raw',\n",
       "       'Snails, fresh, chilled, frozen, dried, salted or in brine, except sea snails',\n",
       "       'Kapok fibre, raw', 'Kapok fruit', 'Kapokseed in shell',\n",
       "       'Jojoba seeds', 'Butter of goat milk'], dtype=object)"
      ]
     },
     "execution_count": 61,
     "metadata": {},
     "output_type": "execute_result"
    }
   ],
   "source": [
    "agri_data[\"Item\"].unique()\n"
   ]
  },
  {
   "cell_type": "code",
   "execution_count": 31,
   "id": "9fa8c95d-4356-4a9a-b864-1e1574c88e78",
   "metadata": {},
   "outputs": [],
   "source": [
    "pd.set_option('display.max_rows', 100)"
   ]
  },
  {
   "cell_type": "code",
   "execution_count": null,
   "id": "621d0f51-d3db-497e-bb48-15155be84d18",
   "metadata": {},
   "outputs": [],
   "source": []
  }
 ],
 "metadata": {
  "kernelspec": {
   "display_name": "Python 3 (ipykernel)",
   "language": "python",
   "name": "python3"
  },
  "language_info": {
   "codemirror_mode": {
    "name": "ipython",
    "version": 3
   },
   "file_extension": ".py",
   "mimetype": "text/x-python",
   "name": "python",
   "nbconvert_exporter": "python",
   "pygments_lexer": "ipython3",
   "version": "3.12.4"
  }
 },
 "nbformat": 4,
 "nbformat_minor": 5
}
