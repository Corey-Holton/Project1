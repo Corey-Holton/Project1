{
 "cells": [
  {
   "cell_type": "code",
   "execution_count": 1,
   "id": "51fbaa0e-8db1-4ce1-b7e9-7e092be205cb",
   "metadata": {},
   "outputs": [],
   "source": [
    "# Dependencies\n",
    "import pandas as pd\n",
    "import matplotlib.pyplot as plt\n",
    "import numpy as np\n",
    "from pathlib import Path"
   ]
  },
  {
   "cell_type": "code",
   "execution_count": 3,
   "id": "ce2e95b2-8339-4567-85ee-c9ddeec34044",
   "metadata": {},
   "outputs": [],
   "source": [
    "a_path = Path(\"Resources/world_population_data.csv\")"
   ]
  },
  {
   "cell_type": "code",
   "execution_count": 5,
   "id": "c1b5c8f8-cf23-4f28-b7ee-294518f96222",
   "metadata": {},
   "outputs": [],
   "source": [
    "b_path = Path(\"Resources/Production_Crops_Livestock_E_All_Data.csv\")"
   ]
  },
  {
   "cell_type": "code",
   "execution_count": 9,
   "id": "d3680cf9-d945-48cd-98a3-423e23b905ec",
   "metadata": {},
   "outputs": [],
   "source": [
    "world_population = pd.read_csv(a_path)"
   ]
  },
  {
   "cell_type": "code",
   "execution_count": 13,
   "id": "37297d6d-ef30-4b03-a1cc-e54c30da844e",
   "metadata": {},
   "outputs": [],
   "source": [
    "agri_data = pd.read_csv(b_path, encoding='ISO-8859-1', low_memory = False)\n"
   ]
  },
  {
   "cell_type": "code",
   "execution_count": 15,
   "id": "8baf5d7b-6739-4df2-b1f9-32ed37d34e72",
   "metadata": {},
   "outputs": [
    {
     "data": {
      "text/plain": [
       "<bound method DataFrame.info of        Area Code Area Code (M49)                                     Area  \\\n",
       "0              2            '004                              Afghanistan   \n",
       "1              2            '004                              Afghanistan   \n",
       "2              2            '004                              Afghanistan   \n",
       "3              2            '004                              Afghanistan   \n",
       "4              2            '004                              Afghanistan   \n",
       "...          ...             ...                                      ...   \n",
       "79601       5817            '902  Net Food Importing Developing Countries   \n",
       "79602       5817            '902  Net Food Importing Developing Countries   \n",
       "79603       5817            '902  Net Food Importing Developing Countries   \n",
       "79604       5817            '902  Net Food Importing Developing Countries   \n",
       "79605       5817            '902  Net Food Importing Developing Countries   \n",
       "\n",
       "       Item Code Item Code (CPC)  \\\n",
       "0            221          '01371   \n",
       "1            221          '01371   \n",
       "2            221          '01371   \n",
       "3            711          '01654   \n",
       "4            711          '01654   \n",
       "...          ...             ...   \n",
       "79601       1729          'F1729   \n",
       "79602       1729          'F1729   \n",
       "79603       1735          'F1735   \n",
       "79604       1735          'F1735   \n",
       "79605       1735          'F1735   \n",
       "\n",
       "                                                    Item  Element Code  \\\n",
       "0                                      Almonds, in shell          5312   \n",
       "1                                      Almonds, in shell          5419   \n",
       "2                                      Almonds, in shell          5510   \n",
       "3      Anise, badian, coriander, cumin, caraway, fenn...          5312   \n",
       "4      Anise, badian, coriander, cumin, caraway, fenn...          5419   \n",
       "...                                                  ...           ...   \n",
       "79601                                    Treenuts, Total          5419   \n",
       "79602                                    Treenuts, Total          5510   \n",
       "79603                                 Vegetables Primary          5312   \n",
       "79604                                 Vegetables Primary          5419   \n",
       "79605                                 Vegetables Primary          5510   \n",
       "\n",
       "              Element      Unit       Y1961  ... Y2019N        Y2020  Y2020F  \\\n",
       "0      Area harvested        ha         0.0  ...    NaN     22134.00       A   \n",
       "1               Yield  100 g/ha         NaN  ...    NaN     17759.00       A   \n",
       "2          Production         t         0.0  ...    NaN     39307.00       A   \n",
       "3      Area harvested        ha         0.0  ...    NaN     25558.00       E   \n",
       "4               Yield  100 g/ha         NaN  ...    NaN      7030.00       E   \n",
       "...               ...       ...         ...  ...    ...          ...     ...   \n",
       "79601           Yield  100 g/ha      6145.0  ...    NaN      5451.00       E   \n",
       "79602      Production         t    255724.0  ...    NaN   2482580.47       E   \n",
       "79603  Area harvested        ha   1881425.0  ...    NaN   7664552.00       E   \n",
       "79604           Yield  100 g/ha     66171.0  ...    NaN    118436.00       E   \n",
       "79605      Production         t  12449526.0  ...    NaN  90776061.71       E   \n",
       "\n",
       "      Y2020N        Y2021  Y2021F Y2021N        Y2022  Y2022F Y2022N  \n",
       "0        NaN     36862.00       A    NaN     37000.00       A    NaN  \n",
       "1        NaN     17432.00       A    NaN     17297.00       A    NaN  \n",
       "2        NaN     64256.00       A    NaN     64000.00       A    NaN  \n",
       "3        NaN     25357.00       E    NaN     25403.00       E    NaN  \n",
       "4        NaN      7050.00       E    NaN      7040.00       E    NaN  \n",
       "...      ...          ...     ...    ...          ...     ...    ...  \n",
       "79601    NaN      5893.00       E    NaN      5673.00       E    NaN  \n",
       "79602    NaN   2664606.42       E    NaN   2741801.91       E    NaN  \n",
       "79603    NaN   7722715.00       E    NaN   7650912.00       E    NaN  \n",
       "79604    NaN    121842.00       E    NaN    123747.00       E    NaN  \n",
       "79605    NaN  94095378.28       E    NaN  94677774.61       E    NaN  \n",
       "\n",
       "[79606 rows x 195 columns]>"
      ]
     },
     "execution_count": 15,
     "metadata": {},
     "output_type": "execute_result"
    }
   ],
   "source": [
    "agri_data.info"
   ]
  },
  {
   "cell_type": "code",
   "execution_count": 15,
   "id": "be21f155-f568-4417-903b-41bf9943aba6",
   "metadata": {},
   "outputs": [
    {
     "name": "stdout",
     "output_type": "stream",
     "text": [
      "<class 'pandas.core.frame.DataFrame'>\n",
      "RangeIndex: 79606 entries, 0 to 79605\n",
      "Columns: 195 entries, Area Code to Y2022N\n",
      "dtypes: float64(62), int64(3), object(130)\n",
      "memory usage: 118.4+ MB\n"
     ]
    }
   ],
   "source": [
    "agri_data.info()"
   ]
  },
  {
   "cell_type": "code",
   "execution_count": 21,
   "id": "4ffd9163-85ed-4420-8dc0-9861f85a72f4",
   "metadata": {},
   "outputs": [
    {
     "data": {
      "text/plain": [
       "Index(['Area Code', 'Area Code (M49)', 'Area', 'Item Code', 'Item Code (CPC)',\n",
       "       'Item', 'Element Code', 'Element', 'Unit', 'Y1961',\n",
       "       ...\n",
       "       'Y2019N', 'Y2020', 'Y2020F', 'Y2020N', 'Y2021', 'Y2021F', 'Y2021N',\n",
       "       'Y2022', 'Y2022F', 'Y2022N'],\n",
       "      dtype='object', length=195)"
      ]
     },
     "execution_count": 21,
     "metadata": {},
     "output_type": "execute_result"
    }
   ],
   "source": [
    "agri_data.columns"
   ]
  },
  {
   "cell_type": "code",
   "execution_count": 23,
   "id": "8a50c17c-a047-482a-b57a-c8194e6f0e55",
   "metadata": {},
   "outputs": [],
   "source": [
    "pd.set_option('display.max_columns', None)"
   ]
  },
  {
   "cell_type": "code",
   "execution_count": 61,
   "id": "807c9e33-2e40-4f64-8d7c-a615a69f6d99",
   "metadata": {},
   "outputs": [
    {
     "data": {
      "text/plain": [
       "array(['Almonds, in shell',\n",
       "       'Anise, badian, coriander, cumin, caraway, fennel and juniper berries, raw',\n",
       "       'Apples', 'Apricots', 'Asses', 'Barley',\n",
       "       'Butter and ghee of sheep milk', 'Butter of cow milk',\n",
       "       'Buttermilk, dry', 'Camels', 'Cantaloupes and other melons',\n",
       "       'Cattle', 'Cattle fat, unrendered',\n",
       "       'Cheese from milk of goats, fresh or processed',\n",
       "       'Cheese from milk of sheep, fresh or processed', 'Chickens',\n",
       "       'Cotton lint, ginned', 'Cotton seed', 'Cottonseed oil',\n",
       "       'Edible offal of cattle, fresh, chilled or frozen',\n",
       "       'Edible offal of goat, fresh, chilled or frozen',\n",
       "       'Edible offal of sheep, fresh, chilled or frozen',\n",
       "       'Edible offals of camels and other camelids, fresh, chilled or frozen',\n",
       "       'Fat of camels', 'Figs', 'Game meat, fresh, chilled or frozen',\n",
       "       'Goat fat, unrendered', 'Goats', 'Grapes',\n",
       "       'Hen eggs in shell, fresh', 'Horses', 'Linseed', 'Maize (corn)',\n",
       "       'Meat of camels, fresh or chilled',\n",
       "       'Meat of cattle with the bone, fresh or chilled',\n",
       "       'Meat of chickens, fresh or chilled',\n",
       "       'Meat of goat, fresh or chilled',\n",
       "       'Meat of sheep, fresh or chilled', 'Millet', 'Molasses',\n",
       "       'Mules and hinnies', 'Mustard seed', 'Natural honey',\n",
       "       'Oil of linseed', 'Oil of sesame seed', 'Olive oil', 'Olives',\n",
       "       'Onions and shallots, dry (excluding dehydrated)', 'Oranges',\n",
       "       'Other berries and fruits of the genus vaccinium n.e.c.',\n",
       "       'Other citrus fruit, n.e.c.', 'Other fruits, n.e.c.',\n",
       "       'Other nuts (excluding wild edible nuts and groundnuts), in shell, n.e.c.',\n",
       "       'Other pulses n.e.c.',\n",
       "       'Other stimulant, spice and aromatic crops, n.e.c.',\n",
       "       'Other stone fruits', 'Other vegetables, fresh n.e.c.',\n",
       "       'Peaches and nectarines', 'Pears', 'Pistachios, in shell',\n",
       "       'Plums and sloes', 'Potatoes',\n",
       "       'Raw cane or beet sugar (centrifugal only)',\n",
       "       'Raw hides and skins of cattle',\n",
       "       'Raw hides and skins of goats or kids',\n",
       "       'Raw hides and skins of sheep or lambs', 'Raw milk of camel',\n",
       "       'Raw milk of cattle', 'Raw milk of goats', 'Raw milk of sheep',\n",
       "       'Raw silk (not thrown)', 'Rice', 'Seed cotton, unginned',\n",
       "       'Sesame seed', 'Sheep', 'Sheep fat, unrendered',\n",
       "       'Shorn wool, greasy, including fleece-washed shorn wool',\n",
       "       'Silk-worm cocoons suitable for reeling', 'Skim milk of cows',\n",
       "       'Sugar beet', 'Sugar cane', 'Sunflower seed',\n",
       "       'Sunflower-seed oil, crude', 'Walnuts, in shell', 'Watermelons',\n",
       "       'Wheat', 'Beef and Buffalo Meat, primary', 'Butter and Ghee',\n",
       "       'Cattle and Buffaloes', 'Cereals, primary', 'Cheese (All Kinds)',\n",
       "       'Citrus Fruit, Total', 'Eggs Primary',\n",
       "       'Fibre Crops, Fibre Equivalent', 'Fruit Primary', 'Meat, Poultry',\n",
       "       'Meat, Total', 'Milk, Total', 'Oilcrops, Cake Equivalent',\n",
       "       'Oilcrops, Oil Equivalent', 'Poultry Birds', 'Pulses, Total',\n",
       "       'Roots and Tubers, Total', 'Sheep and Goat Meat',\n",
       "       'Sheep and Goats', 'Skim Milk & Buttermilk, Dry',\n",
       "       'Sugar Crops Primary', 'Treenuts, Total', 'Vegetables Primary',\n",
       "       'Beans, dry', 'Beer of barley, malted', 'Bees', 'Beeswax',\n",
       "       'Broad beans and horse beans, dry',\n",
       "       'Broad beans and horse beans, green', 'Buffalo',\n",
       "       'Buffalo fat, unrendered', 'Cabbages', 'Carrots and turnips',\n",
       "       'Cauliflowers and broccoli', 'Cheese from whole cow milk',\n",
       "       'Cherries', 'Chestnuts, in shell',\n",
       "       'Chillies and peppers, green (Capsicum spp. and Pimenta spp.)',\n",
       "       'Cucumbers and gherkins', 'Dates', 'Ducks',\n",
       "       'Edible offal of buffalo, fresh, chilled or frozen',\n",
       "       'Edible offal of pigs, fresh, chilled or frozen',\n",
       "       'Edible offals of horses and other equines,  fresh, chilled or frozen',\n",
       "       'Eggplants (aubergines)',\n",
       "       'Eggs from other birds in shell, fresh, n.e.c.', 'Fat of pigs',\n",
       "       'Geese', 'Green garlic',\n",
       "       'Green tea (not fermented), black tea (fermented) and partly fermented tea, in immediate packings of a content not exceeding 3 kg',\n",
       "       'Groundnut oil', 'Hop cones', 'Horse meat, fresh or chilled',\n",
       "       'Leeks and other alliaceous vegetables', 'Lemons and limes',\n",
       "       'Lettuce and chicory', 'Margarine and shortening',\n",
       "       'Meat of buffalo, fresh or chilled',\n",
       "       'Meat of pig with the bone, fresh or chilled',\n",
       "       'Meat of turkeys, fresh or chilled', 'Mushrooms and truffles',\n",
       "       'Oats', 'Okra', 'Onions and shallots, green', 'Other beans, green',\n",
       "       'Other meat n.e.c. (excluding mammals), fresh, chilled or frozen',\n",
       "       'Palm oil', 'Peas, green', 'Pumpkins, squash and gourds',\n",
       "       'Quinces', 'Raw hides and skins of buffaloes',\n",
       "       'Raw milk of buffalo', 'Rye', 'Sorghum', 'Sour cherries',\n",
       "       'Soya bean oil', 'Soya beans', 'Spinach', 'Strawberries',\n",
       "       'Swine / pigs', 'Tangerines, mandarins, clementines', 'Tomatoes',\n",
       "       'Turkeys', 'Unmanufactured tobacco', 'Vetches', 'Wine',\n",
       "       'Artichokes', 'Bananas', 'Cheese from skimmed cow milk',\n",
       "       'Chick peas, dry',\n",
       "       'Chillies and peppers, dry (Capsicum spp., Pimenta spp.), raw',\n",
       "       'Groundnuts, excluding shelled', 'Lentils, dry',\n",
       "       'Locust beans (carobs)',\n",
       "       'Meat of rabbits and hares, fresh or chilled',\n",
       "       'Other tropical fruits, n.e.c.', 'Peas, dry',\n",
       "       'Pomelos and grapefruits', 'Rabbits and hares',\n",
       "       'Rape or colza seed', 'Rapeseed or canola oil, crude',\n",
       "       'Safflower-seed oil, crude', 'Triticale', 'Avocados',\n",
       "       'Cashew nuts, in shell', 'Cassava, fresh', 'Castor oil seeds',\n",
       "       'Cocoa beans', 'Coffee, green',\n",
       "       'Kenaf, and other textile bast fibres, raw or retted',\n",
       "       'Mangoes, guavas and mangosteens', 'Oil of palm kernel',\n",
       "       'Oil palm fruit', 'Palm kernels', 'Pig fat, rendered',\n",
       "       'Pineapples', 'Sisal, raw', 'Sweet potatoes',\n",
       "       'Skim milk and whey powder', 'Skim milk, condensed',\n",
       "       'Skim milk, evaporated', 'Tallow', 'Taro', 'Yams',\n",
       "       'Evaporated & Condensed Milk', 'Asparagus', 'Canary seed',\n",
       "       'Cereals n.e.c.', 'Cream, fresh', 'Flax, raw or retted',\n",
       "       'Ghee from cow milk', 'Lupins', 'Maté leaves',\n",
       "       'Meat of asses, fresh or chilled',\n",
       "       'Meat of ducks, fresh or chilled',\n",
       "       'Meat of geese, fresh or chilled',\n",
       "       'Meat of mules, fresh or chilled', 'Oil of maize',\n",
       "       'Other fibre crops, raw, n.e.c.', 'Other oil seeds, n.e.c.',\n",
       "       'Papayas', 'Peppermint, spearmint', 'Safflower seed',\n",
       "       'String beans', 'Tea leaves', 'Tung nuts', 'Whey, dry',\n",
       "       'Whole milk powder', 'Whole milk, condensed',\n",
       "       'Whole milk, evaporated', 'Hazelnuts, in shell', 'Blueberries',\n",
       "       'Coconut oil', 'Cow peas, dry', 'Currants', 'Green corn (maize)',\n",
       "       'Hempseed', 'Kiwi fruit', 'Persimmons', 'Raspberries',\n",
       "       'True hemp, raw or retted', 'Buckwheat', 'Gooseberries',\n",
       "       'Mixed grain', 'Poppy seed', 'Whey, condensed', 'Yoghurt',\n",
       "       'Cranberries', 'Coconuts, in shell', 'Pigeon peas, dry',\n",
       "       'Plantains and cooking bananas', 'Areca nuts',\n",
       "       'Butter of buffalo milk', 'Coir, raw', 'Ghee from buffalo milk',\n",
       "       'Ginger, raw', 'Jute, raw or retted',\n",
       "       'Natural rubber in primary forms', 'Other sugar crops n.e.c.',\n",
       "       'Other pome fruits', 'Chicory roots', 'Vanilla, raw',\n",
       "       'Edible roots and tubers with high starch or inulin content, n.e.c., fresh',\n",
       "       'Yautia', 'Fonio', 'Karite nuts (sheanuts)', 'Kola nuts',\n",
       "       'Melonseed', 'Pepper (Piper spp.), raw',\n",
       "       'Nutmeg, mace, cardamoms, raw', 'Quinoa', 'Brazil nuts, in shell',\n",
       "       'Meat of other domestic camelids, fresh or chilled',\n",
       "       'Meat of other domestic rodents, fresh or chilled',\n",
       "       'Other camelids', 'Other rodents', 'Pyrethrum, dried flowers',\n",
       "       'Balata, gutta-percha, guayule, chicle and similar natural gums in primary forms or in plates, sheets or strip',\n",
       "       'Cashewapple', 'Ramie, raw or retted', 'Cassava leaves',\n",
       "       'Meat of pigeons and other birds n.e.c., fresh, chilled or frozen',\n",
       "       'Bambara beans, dry',\n",
       "       'Cheese from milk of buffalo, fresh or processed',\n",
       "       'Cinnamon and cinnamon-tree flowers, raw',\n",
       "       'Cloves (whole stems), raw', 'Tallowtree seeds',\n",
       "       'Agave fibres, raw, n.e.c.', 'Abaca, manila hemp, raw',\n",
       "       'Snails, fresh, chilled, frozen, dried, salted or in brine, except sea snails',\n",
       "       'Kapok fibre, raw', 'Kapok fruit', 'Kapokseed in shell',\n",
       "       'Jojoba seeds', 'Butter of goat milk'], dtype=object)"
      ]
     },
     "execution_count": 61,
     "metadata": {},
     "output_type": "execute_result"
    }
   ],
   "source": [
    "agri_data[\"Item\"].unique()\n"
   ]
  },
  {
   "cell_type": "code",
   "execution_count": 31,
   "id": "9fa8c95d-4356-4a9a-b864-1e1574c88e78",
   "metadata": {},
   "outputs": [],
   "source": [
    "pd.set_option('display.max_rows', 100)"
   ]
  },
  {
   "cell_type": "code",
   "execution_count": null,
   "id": "621d0f51-d3db-497e-bb48-15155be84d18",
   "metadata": {},
   "outputs": [],
   "source": []
  }
 ],
 "metadata": {
  "kernelspec": {
   "display_name": "Python 3 (ipykernel)",
   "language": "python",
   "name": "python3"
  },
  "language_info": {
   "codemirror_mode": {
    "name": "ipython",
    "version": 3
   },
   "file_extension": ".py",
   "mimetype": "text/x-python",
   "name": "python",
   "nbconvert_exporter": "python",
   "pygments_lexer": "ipython3",
   "version": "3.12.4"
  }
 },
 "nbformat": 4,
 "nbformat_minor": 5
}
